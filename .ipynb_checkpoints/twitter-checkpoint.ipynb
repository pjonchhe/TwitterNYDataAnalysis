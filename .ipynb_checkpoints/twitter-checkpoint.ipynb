{
 "cells": [
  {
   "cell_type": "markdown",
   "metadata": {},
   "source": [
    "Prajin Jonchhe\n",
    "Utsav Mathur"
   ]
  },
  {
   "cell_type": "code",
   "execution_count": 1,
   "metadata": {},
   "outputs": [
    {
     "name": "stderr",
     "output_type": "stream",
     "text": [
      "Warning message:\n",
      "\"package 'twitteR' was built under R version 3.4.3\""
     ]
    },
    {
     "name": "stdout",
     "output_type": "stream",
     "text": [
      "[1] \"Using direct authentication\"\n"
     ]
    }
   ],
   "source": [
    "library(twitteR)\n",
    "api_key <- \"aZzTHqTKcsMX3BNEi9NeQljTZ\"\n",
    " \n",
    "api_secret <- \"XHOnFMfDGTzhgjoCjsos1Lo9WCyOLgWTIZt8GCGsSUmeaNONvJ\"\n",
    " \n",
    "access_token <- \"964294737434902529-8mvY7066aDLY9RGgCiYWfjDko6IVDbc\"\n",
    " \n",
    "access_token_secret <- \"Azn1rzbwLL687Sk8dsQ0WCxTOYrSeZEUap6l4EAHyj6qT\"\n",
    " \n",
    "setup_twitter_oauth(api_key,api_secret,access_token,access_token_secret)\n",
    "\n"
   ]
  },
  {
   "cell_type": "code",
   "execution_count": 2,
   "metadata": {},
   "outputs": [],
   "source": [
    "tweets <- searchTwitter(\"#facebook\", n=2500)\n",
    "df<-twListToDF(tweets)\n",
    "tweets<-df[1]\n",
    "\n",
    "for (t in tweets)\n",
    "    t_no_punct<-gsub('[[:punct:] ]+',' ',t)\n",
    "    t_clean_multi_space <- gsub(\"[^\\x20-\\x7E]\", \" \", t_no_punct)\n",
    "    t_clean <- gsub(\" +\", \" \", t_clean_multi_space)\n",
    "    write(t_clean, file = \"TwitterData/TwitterData.txt\",sep = \" \")\n",
    "    #write(\"\\n\", file = \"tweets.txt\", sep = \" \")"
   ]
  },
  {
   "cell_type": "code",
   "execution_count": null,
   "metadata": {},
   "outputs": [],
   "source": []
  }
 ],
 "metadata": {
  "kernelspec": {
   "display_name": "R",
   "language": "R",
   "name": "ir"
  },
  "language_info": {
   "codemirror_mode": "r",
   "file_extension": ".r",
   "mimetype": "text/x-r-source",
   "name": "R",
   "pygments_lexer": "r",
   "version": "3.4.2"
  }
 },
 "nbformat": 4,
 "nbformat_minor": 2
}
