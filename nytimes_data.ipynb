{
 "cells": [
  {
   "cell_type": "markdown",
   "metadata": {},
   "source": [
    "Prajin Jonchhe\n",
    "Utsav Mathur"
   ]
  },
  {
   "cell_type": "code",
   "execution_count": 1,
   "metadata": {},
   "outputs": [],
   "source": [
    "from nytimesarticle import articleAPI\n",
    "import time\n",
    "import re\n",
    "import urllib\n",
    "import sys\n",
    "\n",
    "api = articleAPI(\"9d833287d5e841babf39461e5d246cbc\")"
   ]
  },
  {
   "cell_type": "code",
   "execution_count": 2,
   "metadata": {},
   "outputs": [],
   "source": [
    "for i in range (1,20):\n",
    "    articles = api.search( q = \"Facebook\", page = i)\n",
    "\n",
    "    articles_data = articles['response']['docs']\n",
    "    for article in articles_data:\n",
    "        #print(article['web_url'])\n",
    "        try:\n",
    "            f = urllib.request.urlopen(article['web_url']).read()\n",
    "            file = open('all_page_source.txt','ab+')\n",
    "            file.write(f)\n",
    "            file.close()\n",
    "        except urllib.error.URLError as e:\n",
    "            print(e.reason)\n",
    "        \n",
    "\n",
    "#print(articles['response'],['docs'],['web_url'])"
   ]
  },
  {
   "cell_type": "code",
   "execution_count": 3,
   "metadata": {},
   "outputs": [],
   "source": [
    "from html.parser import HTMLParser\n",
    "\n",
    "# create a subclass and override the handler methods\n",
    "class MyHTMLParser(HTMLParser):\n",
    "    found = False\n",
    "    data_null = True\n",
    "    def handle_starttag(self, tag, attrs):\n",
    "        if(tag == 'p'):\n",
    "            #print (\"Encountered a start tag:\", tag)\n",
    "            for attr in attrs:\n",
    "                if(attr[1] == \"story-body-text story-content\"):\n",
    "                    self.found = True\n",
    "                   # print (\"     attr:\", attr[1])\n",
    "\n",
    "    def handle_endtag(self, tag):\n",
    "        if(tag == 'p'):\n",
    "            self.found=False\n",
    "            if(self.data_null == False):\n",
    "                file = open('article6.txt','a+')\n",
    "                file.write(\"\\n\")\n",
    "                file.close()\n",
    "                self.data_null = True\n",
    "            #print (\"Encountered an end tag :\", tag)\n",
    "\n",
    "    def handle_data(self, data):\n",
    "        if(self.found):\n",
    "            file = open('article6.txt','ab+')\n",
    "            file.write(data.encode(\"utf-8\"))\n",
    "            file.close()\n",
    "            if(data != None):\n",
    "                self.data_null = False\n",
    "            \n",
    "            #print (\"Encountered some data  :\", data)\n",
    "\n",
    "# instantiate the parser and fed it some HTML\n",
    "parser = MyHTMLParser()"
   ]
  },
  {
   "cell_type": "code",
   "execution_count": 4,
   "metadata": {},
   "outputs": [],
   "source": [
    "file2 = open('all_page_source.txt', 'rb') \n",
    "contents = file2.read().decode(\"utf-8\") \n",
    "#print(contents)\n",
    "parser.feed(contents)\n",
    "file2.close()"
   ]
  },
  {
   "cell_type": "code",
   "execution_count": 6,
   "metadata": {},
   "outputs": [],
   "source": [
    "file3 = open('article6.txt', 'rb') \n",
    "data = file3.read().decode(\"utf-8\") \n",
    "data_no_punct = re.sub(r'[^\\w\\s]',' ',data)\n",
    "file3.close()\n",
    "\n",
    "final_file = open('NewsData/NewsData.txt', 'wb')\n",
    "final_file.write(data_no_punct.encode(\"utf-8\"))\n",
    "final_file.close()"
   ]
  },
  {
   "cell_type": "code",
   "execution_count": null,
   "metadata": {},
   "outputs": [],
   "source": []
  }
 ],
 "metadata": {
  "kernelspec": {
   "display_name": "Python 3",
   "language": "python",
   "name": "python3"
  },
  "language_info": {
   "codemirror_mode": {
    "name": "ipython",
    "version": 3
   },
   "file_extension": ".py",
   "mimetype": "text/x-python",
   "name": "python",
   "nbconvert_exporter": "python",
   "pygments_lexer": "ipython3",
   "version": "3.6.3"
  }
 },
 "nbformat": 4,
 "nbformat_minor": 2
}
