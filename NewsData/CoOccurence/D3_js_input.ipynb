{
 "cells": [
  {
   "cell_type": "code",
   "execution_count": 3,
   "metadata": {},
   "outputs": [],
   "source": [
    "#input_file = open('part-00000 (7)','r')\n",
    "a=sorted(open(\"part-00000\").readlines(), reverse=True, key=lambda line: int(line.split('\\t')[1]))\n",
    "\n",
    "file3 = open('NewsDataSorted.txt', 'w') \n",
    "\n",
    "for b in a:\n",
    "    file3.write(b.strip())\n",
    "    file3.write(\"\\n\")\n",
    "file3.close()\n",
    "\n",
    "output_file = open('../../d3-wordcloud-master\\example\\example.words.js','w')\n",
    "output_file.write(\"var words = [\")\n",
    "first = True\n",
    "with open('NewsDataSorted.txt') as f:\n",
    "    lines = f.readlines()\n",
    "    for line in lines:\n",
    "        line = line.strip()\n",
    "        word, freq = line.split(\"\\t\")\n",
    "        if(first == False):\n",
    "            output_file.write(\",\")\n",
    "        first = False\n",
    "        output_file.write(\"{text: '\")\n",
    "        output_file.write(word)\n",
    "        output_file.write(\"', size: \")\n",
    "        output_file.write(freq)\n",
    "        output_file.write(\"}\")\n",
    "        \n",
    "    output_file.write(\"];\")\n",
    "    #print(lines)\n",
    "output_file.close()\n",
    "#input_file.close()\n"
   ]
  },
  {
   "cell_type": "code",
   "execution_count": null,
   "metadata": {},
   "outputs": [],
   "source": []
  }
 ],
 "metadata": {
  "kernelspec": {
   "display_name": "Python 3",
   "language": "python",
   "name": "python3"
  },
  "language_info": {
   "codemirror_mode": {
    "name": "ipython",
    "version": 3
   },
   "file_extension": ".py",
   "mimetype": "text/x-python",
   "name": "python",
   "nbconvert_exporter": "python",
   "pygments_lexer": "ipython3",
   "version": "3.6.3"
  }
 },
 "nbformat": 4,
 "nbformat_minor": 2
}
